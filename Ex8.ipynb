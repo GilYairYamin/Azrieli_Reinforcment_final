{
 "cells": [
  {
   "cell_type": "markdown",
   "metadata": {},
   "source": [
    "Creating the Neural Network Class"
   ]
  },
  {
   "cell_type": "code",
   "execution_count": 1,
   "metadata": {},
   "outputs": [
    {
     "name": "stdout",
     "output_type": "stream",
     "text": [
      "Policy Output Shape: torch.Size([1, 60])\n",
      "Value Output: tensor([[-0.1017]], grad_fn=<TanhBackward0>)\n"
     ]
    }
   ],
   "source": [
    "import torch\n",
    "import torch.nn as nn\n",
    "import torch.optim as optim\n",
    "import numpy as np\n",
    "\n",
    "from abalone import Abalone\n",
    "\n",
    "\n",
    "class GameNetwork(nn.Module):\n",
    "    def __init__(self, input_size, action_size, hidden_size=128):\n",
    "        super(GameNetwork, self).__init__()\n",
    "\n",
    "        # שכבה ראשית משותפת\n",
    "        self.fc1 = nn.Linear(input_size, hidden_size)\n",
    "        self.relu = nn.ReLU()\n",
    "\n",
    "        # ראש מדיניות (Policy Head)\n",
    "        self.policy_head = nn.Linear(hidden_size, action_size)\n",
    "        self.softmax = nn.Softmax(dim=-1)\n",
    "\n",
    "        # ראש ערך (Value Head)\n",
    "        self.value_head = nn.Linear(hidden_size, 1)\n",
    "        self.tanh = nn.Tanh()\n",
    "\n",
    "    def forward(self, x):\n",
    "        x = self.relu(self.fc1(x))\n",
    "\n",
    "        policy_logits = self.policy_head(x)\n",
    "        policy = self.softmax(policy_logits)\n",
    "\n",
    "        value = self.tanh(self.value_head(x))\n",
    "\n",
    "        return policy, value\n",
    "\n",
    "    def save_model(self, path=\"game_network.pth\"):\n",
    "        torch.save(self.state_dict(), path)\n",
    "\n",
    "    def load_model(self, path=\"game_network.pth\"):\n",
    "        self.load_state_dict(torch.load(path))\n",
    "        self.eval()\n",
    "\n",
    "\n",
    "# בדיקה בסיסית\n",
    "if __name__ == \"__main__\":\n",
    "    input_size = 81  # לדוגמה, 9x9 לוח ה-Abalone מקודד\n",
    "    action_size = 60  # לדוגמה, מספר מהלכים חוקיים פוטנציאליים\n",
    "    model = GameNetwork(input_size, action_size)\n",
    "\n",
    "    test_input = torch.rand((1, input_size))\n",
    "    policy, value = model(test_input)\n",
    "\n",
    "    print(\"Policy Output Shape:\", policy.shape)\n",
    "    print(\"Value Output:\", value)\n"
   ]
  }
 ],
 "metadata": {
  "kernelspec": {
   "display_name": ".venv",
   "language": "python",
   "name": "python3"
  },
  "language_info": {
   "codemirror_mode": {
    "name": "ipython",
    "version": 3
   },
   "file_extension": ".py",
   "mimetype": "text/x-python",
   "name": "python",
   "nbconvert_exporter": "python",
   "pygments_lexer": "ipython3",
   "version": "3.12.3"
  }
 },
 "nbformat": 4,
 "nbformat_minor": 2
}
